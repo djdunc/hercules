{
  "nbformat": 4,
  "nbformat_minor": 0,
  "metadata": {
    "colab": {
      "provenance": [],
      "authorship_tag": "ABX9TyO5RLUGPgKGTjEnt4fBlTjV",
      "include_colab_link": true
    },
    "kernelspec": {
      "name": "python3",
      "display_name": "Python 3"
    },
    "language_info": {
      "name": "python"
    }
  },
  "cells": [
    {
      "cell_type": "markdown",
      "metadata": {
        "id": "view-in-github",
        "colab_type": "text"
      },
      "source": [
        "<a href=\"https://colab.research.google.com/github/djdunc/hercules/blob/main/data_processing/locations_single.ipynb\" target=\"_parent\"><img src=\"https://colab.research.google.com/assets/colab-badge.svg\" alt=\"Open In Colab\"/></a>"
      ]
    },
    {
      "cell_type": "markdown",
      "source": [
        "Single"
      ],
      "metadata": {
        "id": "aIgbCiAW3FfG"
      }
    },
    {
      "cell_type": "code",
      "execution_count": null,
      "metadata": {
        "id": "7yNB2vvuGCXo"
      },
      "outputs": [],
      "source": [
        "import pandas as pd\n",
        "\n",
        "def filter_patient_data(csv_file, patient_id):\n",
        "    \"\"\"\n",
        "    Loads a CSV file into a pandas DataFrame and filters it by patient ID.\n",
        "\n",
        "    Args:\n",
        "        csv_file (str): Path to the CSV file.\n",
        "        patient_id (str): The patient ID to filter by.\n",
        "\n",
        "    Returns:\n",
        "        pandas.DataFrame: A DataFrame containing only the data for the specified\n",
        "                         patient ID, or an empty DataFrame if the file doesn't exist\n",
        "                         or the patient ID is not found. Returns an error message if the file is not a valid CSV.\n",
        "    \"\"\"\n",
        "    try:\n",
        "        df = pd.read_csv(csv_file)\n",
        "    except FileNotFoundError:\n",
        "        return \"Error: File not found.\"\n",
        "    except pd.errors.ParserError:\n",
        "        return \"Error: Invalid CSV file format.\"\n",
        "    except Exception as e: # Catch other potential pandas exceptions\n",
        "        return f\"An error occurred while reading the file: {e}\"\n",
        "\n",
        "\n",
        "    if 'Patient' not in df.columns:\n",
        "        return \"Error: 'Patient' column not found in CSV.\"\n",
        "\n",
        "    filtered_df = df[df['Patient'] == patient_id]\n",
        "    return filtered_df\n",
        "\n",
        "\n"
      ]
    },
    {
      "cell_type": "code",
      "source": [
        "def is_location_within_rectangle(x, y, rect):\n",
        "    \"\"\"Checks if (x, y) is within a given rectangle.\n",
        "\n",
        "    Args:\n",
        "        x: x-coordinate.\n",
        "        y: y-coordinate.\n",
        "        rect: A tuple or list defining the rectangle (x1, y1, x2, y2).\n",
        "\n",
        "    Returns:\n",
        "        bool: True if within, False otherwise.\n",
        "    \"\"\"\n",
        "    x1, y1, x2, y2 = rect\n",
        "    return x1 <= x <= x2 and y2 <= y <= y1  # Corrected y-coordinate comparison\n"
      ],
      "metadata": {
        "id": "FZOQGYXQLRnR"
      },
      "execution_count": null,
      "outputs": []
    },
    {
      "cell_type": "code",
      "source": [
        "def process_data(csv_file_path, patient_id_to_filter, rectangles):\n",
        "    \"\"\"Processes data, checking against multiple rectangles.\n",
        "\n",
        "    Args:\n",
        "        csv_file_path: Path to CSV.\n",
        "        patient_id_to_filter: Patient ID.\n",
        "        rectangles: A dictionary where keys are rectangle names (strings) and\n",
        "                    values are tuples/lists defining the rectangles (x1, y1, x2, y2).\n",
        "    \"\"\"\n",
        "\n",
        "    filtered_data = filter_patient_data(csv_file_path, patient_id_to_filter)\n",
        "\n",
        "    if isinstance(filtered_data, pd.DataFrame):\n",
        "        if not filtered_data.empty:\n",
        "            try:\n",
        "                filtered_data[['xlocation', 'ylocation']] = filtered_data['Location'].apply(lambda loc: tuple(map(float, loc.replace('\"', '').split(',')))).tolist()\n",
        "            except (ValueError, AttributeError):\n",
        "                return \"Error: Could not convert xlocation or ylocation to floats. Check data format.\"\n",
        "\n",
        "            filtered_data['within_rectangle'] = \"\"  # Initialize the column\n",
        "\n",
        "            for rect_name, rect_coords in rectangles.items():\n",
        "                filtered_data.loc[filtered_data.apply(lambda row: is_location_within_rectangle(row['xlocation'], row['ylocation'], rect_coords), axis=1), 'within_rectangle'] += rect_name + \",\" # Append the rectangle name, comma separated.\n",
        "\n",
        "            #Remove the trailing comma\n",
        "            filtered_data['within_rectangle'] = filtered_data['within_rectangle'].str.rstrip(',')\n",
        "\n",
        "            print(filtered_data.to_string())\n",
        "\n",
        "        else:\n",
        "            print(f\"No data found for Patient ID: {patient_id_to_filter}\")\n",
        "    elif isinstance(filtered_data, str):\n",
        "        print(filtered_data)\n",
        "    else:\n",
        "        print(\"An unexpected error occurred.\")\n",
        "\n"
      ],
      "metadata": {
        "id": "Re79_dq5LcYG"
      },
      "execution_count": null,
      "outputs": []
    },
    {
      "cell_type": "code",
      "source": [
        "rectangles = {\n",
        "    \"WC\": (24.95, 3.33, 27.67, 1.66),\n",
        "    \"Research4\": (8.78, 11.28, 12.08, 9.41),\n",
        "    \"Glaucoma 3\": (13.66, 11.88, 21.87, 9.18),\n",
        "    \"AF_RHS\": (4.56, 6.00, 6.8, 3.67)}\n",
        "\n",
        "process_data(\"P1_input.csv\", \"G0561\", rectangles)"
      ],
      "metadata": {
        "colab": {
          "base_uri": "https://localhost:8080/"
        },
        "collapsed": true,
        "id": "1Y-mviJxGIsw",
        "outputId": "43ca7b79-ea92-4991-f543-b19b58e4fba7"
      },
      "execution_count": null,
      "outputs": [
        {
          "output_type": "stream",
          "name": "stdout",
          "text": [
            "      Patient       Location            starttime              endtime  xlocation  ylocation      step_length within_rectangle\n",
            "65950   G0561   10.697,9.221  2021-10-18 16:01:41  2021-10-18 16:11:37     10.697      9.221  0 days 00:09:56                 \n",
            "65951   G0561    9.924,9.876  2021-10-18 16:01:26  2021-10-18 16:01:41      9.924      9.876  0 days 00:00:15        Research4\n",
            "65954   G0561   10.211,8.836  2021-10-18 16:01:03  2021-10-18 16:01:26     10.211      8.836  0 days 00:00:23                 \n",
            "65955   G0561    9.327,9.652  2021-10-18 16:01:01  2021-10-18 16:01:03      9.327      9.652  0 days 00:00:02        Research4\n",
            "65956   G0561     9.695,8.91  2021-10-18 16:00:57  2021-10-18 16:01:01      9.695      8.910  0 days 00:00:04                 \n",
            "65958   G0561    10.617,9.42  2021-10-18 16:00:48  2021-10-18 16:00:57     10.617      9.420  0 days 00:00:09        Research4\n",
            "65960   G0561   12.537,8.669  2021-10-18 16:00:38  2021-10-18 16:00:48     12.537      8.669  0 days 00:00:10                 \n",
            "65961   G0561    14.57,9.576  2021-10-18 16:00:04  2021-10-18 16:00:38     14.570      9.576  0 days 00:00:34       Glaucoma 3\n",
            "66044   G0561  14.322,10.847  2021-10-18 15:52:22  2021-10-18 16:00:04     14.322     10.847  0 days 00:07:42       Glaucoma 3\n",
            "66045   G0561    14.53,9.816  2021-10-18 15:52:19  2021-10-18 15:52:22     14.530      9.816  0 days 00:00:03       Glaucoma 3\n",
            "66055   G0561  14.257,10.935  2021-10-18 15:50:53  2021-10-18 15:52:19     14.257     10.935  0 days 00:01:26       Glaucoma 3\n",
            "66057   G0561  14.415,11.287  2021-10-18 15:50:42  2021-10-18 15:50:53     14.415     11.287  0 days 00:00:11       Glaucoma 3\n",
            "66102   G0561   13.96,10.591  2021-10-18 15:46:22  2021-10-18 15:50:42     13.960     10.591  0 days 00:04:20       Glaucoma 3\n",
            "66137   G0561    15.38,10.83  2021-10-18 15:43:50  2021-10-18 15:46:22     15.380     10.830  0 days 00:02:32       Glaucoma 3\n",
            "66312   G0561  16.304,11.289  2021-10-18 15:27:53  2021-10-18 15:43:50     16.304     11.289  0 days 00:15:57       Glaucoma 3\n",
            "66320   G0561  15.569,10.509  2021-10-18 15:26:57  2021-10-18 15:27:53     15.569     10.509  0 days 00:00:56       Glaucoma 3\n",
            "66321   G0561   16.341,9.721  2021-10-18 15:26:53  2021-10-18 15:26:57     16.341      9.721  0 days 00:00:04       Glaucoma 3\n",
            "66341   G0561  17.317,10.625  2021-10-18 15:25:07  2021-10-18 15:26:53     17.317     10.625  0 days 00:01:46       Glaucoma 3\n",
            "66348   G0561   18.473,10.33  2021-10-18 15:24:47  2021-10-18 15:25:07     18.473     10.330  0 days 00:00:20       Glaucoma 3\n",
            "66365   G0561  17.421,10.626  2021-10-18 15:23:38  2021-10-18 15:24:47     17.421     10.626  0 days 00:01:09       Glaucoma 3\n",
            "66369   G0561   18.037,11.45  2021-10-18 15:23:27  2021-10-18 15:23:38     18.037     11.450  0 days 00:00:11       Glaucoma 3\n",
            "66425   G0561  18.179,10.318  2021-10-18 15:21:30  2021-10-18 15:23:27     18.179     10.318  0 days 00:01:57       Glaucoma 3\n",
            "66432   G0561  17.795,10.872  2021-10-18 15:21:08  2021-10-18 15:21:30     17.795     10.872  0 days 00:00:22       Glaucoma 3\n",
            "66489   G0561  17.879,10.412  2021-10-18 15:17:02  2021-10-18 15:21:08     17.879     10.412  0 days 00:04:06       Glaucoma 3\n",
            "66496   G0561  17.916,11.541  2021-10-18 15:16:45  2021-10-18 15:17:02     17.916     11.541  0 days 00:00:17       Glaucoma 3\n",
            "66519   G0561  17.614,10.604  2021-10-18 15:14:25  2021-10-18 15:16:45     17.614     10.604  0 days 00:02:20       Glaucoma 3\n",
            "66556   G0561  17.861,11.124  2021-10-18 15:12:24  2021-10-18 15:14:25     17.861     11.124  0 days 00:02:01       Glaucoma 3\n",
            "66600   G0561  17.766,10.535  2021-10-18 15:08:21  2021-10-18 15:12:24     17.766     10.535  0 days 00:04:03       Glaucoma 3\n",
            "66601   G0561  18.921,10.156  2021-10-18 15:08:16  2021-10-18 15:08:21     18.921     10.156  0 days 00:00:05       Glaucoma 3\n",
            "66602   G0561  20.583,10.078  2021-10-18 15:08:14  2021-10-18 15:08:16     20.583     10.078  0 days 00:00:02       Glaucoma 3\n",
            "66603   G0561   21.889,9.816  2021-10-18 15:08:12  2021-10-18 15:08:14     21.889      9.816  0 days 00:00:02                 \n",
            "66604   G0561   23.177,8.405  2021-10-18 15:08:10  2021-10-18 15:08:12     23.177      8.405  0 days 00:00:02                 \n",
            "66605   G0561   22.459,5.472  2021-10-18 15:08:08  2021-10-18 15:08:10     22.459      5.472  0 days 00:00:02                 \n",
            "66606   G0561   20.134,2.544  2021-10-18 15:08:04  2021-10-18 15:08:08     20.134      2.544  0 days 00:00:04                 \n",
            "66607   G0561   18.002,2.751  2021-10-18 15:08:02  2021-10-18 15:08:04     18.002      2.751  0 days 00:00:02                 \n",
            "66608   G0561   15.258,3.113  2021-10-18 15:08:00  2021-10-18 15:08:02     15.258      3.113  0 days 00:00:02                 \n",
            "66609   G0561   12.869,3.317  2021-10-18 15:07:57  2021-10-18 15:08:00     12.869      3.317  0 days 00:00:03                 \n",
            "66610   G0561   10.918,3.108  2021-10-18 15:07:55  2021-10-18 15:07:57     10.918      3.108  0 days 00:00:02                 \n",
            "66611   G0561    8.421,2.719  2021-10-18 15:07:53  2021-10-18 15:07:55      8.421      2.719  0 days 00:00:02                 \n",
            "66613   G0561    6.562,2.749  2021-10-18 15:07:51  2021-10-18 15:07:53      6.562      2.749  0 days 00:00:02                 \n",
            "66616   G0561    5.145,2.692  2021-10-18 15:07:45  2021-10-18 15:07:51      5.145      2.692  0 days 00:00:06                 \n",
            "66617   G0561    4.554,1.642  2021-10-18 15:07:37  2021-10-18 15:07:45      4.554      1.642  0 days 00:00:08                 \n",
            "66632   G0561    3.687,1.604  2021-10-18 15:06:22  2021-10-18 15:07:37      3.687      1.604  0 days 00:01:15                 \n",
            "66635   G0561    4.352,1.217  2021-10-18 15:06:12  2021-10-18 15:06:22      4.352      1.217  0 days 00:00:10                 \n",
            "66644   G0561    3.687,1.559  2021-10-18 15:04:44  2021-10-18 15:06:12      3.687      1.559  0 days 00:01:28                 \n",
            "66760   G0561     4.676,1.09  2021-10-18 14:54:01  2021-10-18 15:04:44      4.676      1.090  0 days 00:10:43                 \n",
            "66785   G0561    3.706,1.524  2021-10-18 14:51:35  2021-10-18 14:54:01      3.706      1.524  0 days 00:02:26                 \n",
            "66813   G0561    4.568,1.386  2021-10-18 14:49:08  2021-10-18 14:51:35      4.568      1.386  0 days 00:02:27                 \n",
            "66816   G0561    3.525,2.526  2021-10-18 14:48:59  2021-10-18 14:49:08      3.525      2.526  0 days 00:00:09                 \n",
            "66818   G0561     3.63,4.186  2021-10-18 14:48:57  2021-10-18 14:48:59      3.630      4.186  0 days 00:00:02                 \n",
            "66885   G0561    4.768,4.926  2021-10-18 14:42:52  2021-10-18 14:48:57      4.768      4.926  0 days 00:06:05           AF_RHS\n",
            "66886   G0561      4.6,3.822  2021-10-18 14:42:37  2021-10-18 14:42:52      4.600      3.822  0 days 00:00:15           AF_RHS\n",
            "66888   G0561    3.847,3.388  2021-10-18 14:42:33  2021-10-18 14:42:37      3.847      3.388  0 days 00:00:04                 \n",
            "66889   G0561    5.072,3.435  2021-10-18 14:42:31  2021-10-18 14:42:33      5.072      3.435  0 days 00:00:02                 \n",
            "66890   G0561      7.3,3.947  2021-10-18 14:42:28  2021-10-18 14:42:31      7.300      3.947  0 days 00:00:03                 \n",
            "66891   G0561    9.366,3.939  2021-10-18 14:42:20  2021-10-18 14:42:28      9.366      3.939  0 days 00:00:08                 \n",
            "66892   G0561   10.926,3.839  2021-10-18 14:42:18  2021-10-18 14:42:20     10.926      3.839  0 days 00:00:02                 \n",
            "66893   G0561   12.436,3.705  2021-10-18 14:42:16  2021-10-18 14:42:18     12.436      3.705  0 days 00:00:02                 \n",
            "66894   G0561   14.929,3.586  2021-10-18 14:42:14  2021-10-18 14:42:16     14.929      3.586  0 days 00:00:02                 \n",
            "66895   G0561    16.81,3.409  2021-10-18 14:42:12  2021-10-18 14:42:14     16.810      3.409  0 days 00:00:02                 \n",
            "66897   G0561   18.567,3.509  2021-10-18 14:42:10  2021-10-18 14:42:12     18.567      3.509  0 days 00:00:02                 \n",
            "66899   G0561   20.779,3.727  2021-10-18 14:42:08  2021-10-18 14:42:10     20.779      3.727  0 days 00:00:02                 \n",
            "66900   G0561   21.527,4.612  2021-10-18 14:42:05  2021-10-18 14:42:08     21.527      4.612  0 days 00:00:03                 \n",
            "66901   G0561   22.558,5.485  2021-10-18 14:42:03  2021-10-18 14:42:05     22.558      5.485  0 days 00:00:02                 \n",
            "66904   G0561   24.033,3.199  2021-10-18 14:41:59  2021-10-18 14:42:03     24.033      3.199  0 days 00:00:04                 \n",
            "66906   G0561     24.5,4.464  2021-10-18 14:41:53  2021-10-18 14:41:59     24.500      4.464  0 days 00:00:06                 \n",
            "66908   G0561   25.295,3.319  2021-10-18 14:41:48  2021-10-18 14:41:53     25.295      3.319  0 days 00:00:05               WC\n",
            "66909   G0561   25.018,4.435  2021-10-18 14:41:44  2021-10-18 14:41:48     25.018      4.435  0 days 00:00:04                 \n",
            "66911   G0561   25.744,2.685  2021-10-18 14:40:26  2021-10-18 14:41:44     25.744      2.685  0 days 00:01:18               WC\n",
            "66912   G0561    26.674,1.92  2021-10-18 14:40:06  2021-10-18 14:40:26     26.674      1.920  0 days 00:00:20               WC\n",
            "66913   G0561   25.894,2.787  2021-10-18 14:40:05  2021-10-18 14:40:06     25.894      2.787  0 days 00:00:01               WC\n",
            "66914   G0561   24.775,3.658  2021-10-18 14:39:59  2021-10-18 14:40:05     24.775      3.658  0 days 00:00:06                 \n",
            "66915   G0561     23.776,0.9  2021-10-18 14:39:49  2021-10-18 14:39:59     23.776      0.900  0 days 00:00:10                 \n",
            "66916   G0561   21.091,1.007  2021-10-18 14:39:46  2021-10-18 14:39:49     21.091      1.007  0 days 00:00:03                 \n",
            "66917   G0561   19.898,2.177  2021-10-18 14:39:44  2021-10-18 14:39:46     19.898      2.177  0 days 00:00:02                 \n",
            "66918   G0561   16.915,1.847  2021-10-18 14:39:42  2021-10-18 14:39:44     16.915      1.847  0 days 00:00:02                 \n",
            "66919   G0561   15.638,3.271  2021-10-18 14:39:40  2021-10-18 14:39:42     15.638      3.271  0 days 00:00:02                 \n",
            "66920   G0561   13.816,3.613  2021-10-18 14:39:38  2021-10-18 14:39:40     13.816      3.613  0 days 00:00:02                 \n",
            "66921   G0561   12.785,4.719  2021-10-18 14:39:36  2021-10-18 14:39:38     12.785      4.719  0 days 00:00:02                 \n",
            "66922   G0561   12.201,6.698  2021-10-18 14:39:34  2021-10-18 14:39:36     12.201      6.698  0 days 00:00:02                 \n",
            "66923   G0561   12.274,8.541  2021-10-18 14:39:32  2021-10-18 14:39:34     12.274      8.541  0 days 00:00:02                 \n",
            "66924   G0561   10.163,8.843  2021-10-18 14:39:24  2021-10-18 14:39:32     10.163      8.843  0 days 00:00:08                 \n",
            "66925   G0561     10.99,9.55  2021-10-18 14:38:44  2021-10-18 14:39:24     10.990      9.550  0 days 00:00:40        Research4\n",
            "66929   G0561  11.109,10.338  2021-10-18 14:37:33  2021-10-18 14:38:44     11.109     10.338  0 days 00:01:11        Research4\n"
          ]
        }
      ]
    }
  ]
}